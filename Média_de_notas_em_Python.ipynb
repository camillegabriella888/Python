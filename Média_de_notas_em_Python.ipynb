{
  "nbformat": 4,
  "nbformat_minor": 0,
  "metadata": {
    "colab": {
      "provenance": [],
      "authorship_tag": "ABX9TyPmLKkTaK84tbmGSB3tuQmU",
      "include_colab_link": true
    },
    "kernelspec": {
      "name": "python3",
      "display_name": "Python 3"
    },
    "language_info": {
      "name": "python"
    }
  },
  "cells": [
    {
      "cell_type": "markdown",
      "metadata": {
        "id": "view-in-github",
        "colab_type": "text"
      },
      "source": [
        "<a href=\"https://colab.research.google.com/github/camillegabriella888/Python/blob/main/M%C3%A9dia_de_notas_em_Python.ipynb\" target=\"_parent\"><img src=\"https://colab.research.google.com/assets/colab-badge.svg\" alt=\"Open In Colab\"/></a>"
      ]
    },
    {
      "cell_type": "code",
      "execution_count": 3,
      "metadata": {
        "colab": {
          "base_uri": "https://localhost:8080/"
        },
        "id": "GXtqOxvW0ZNS",
        "outputId": "46c6653e-4f6b-4dd3-c5ad-0b87a769f114"
      },
      "outputs": [
        {
          "output_type": "stream",
          "name": "stdout",
          "text": [
            "Hello World\n"
          ]
        }
      ],
      "source": [
        "print(\"Hello World\")"
      ]
    },
    {
      "cell_type": "code",
      "source": [
        "x = 10\n",
        "Nome_1 = 'aluno'\n",
        "nota = 8.75\n",
        "fez_inscrição = True\n",
        "print(type(x))\n",
        "print(type(Nome_1))\n",
        "print(type(nota))\n",
        "print(type(fez_inscrição))"
      ],
      "metadata": {
        "colab": {
          "base_uri": "https://localhost:8080/"
        },
        "id": "eC9RVRNN1EI0",
        "outputId": "e07df642-8c18-47ea-a9f3-35fae1bd85f9"
      },
      "execution_count": 7,
      "outputs": [
        {
          "output_type": "stream",
          "name": "stdout",
          "text": [
            "<class 'int'>\n",
            "<class 'str'>\n",
            "<class 'float'>\n",
            "<class 'bool'>\n"
          ]
        }
      ]
    },
    {
      "cell_type": "code",
      "source": [
        "nome = input(\"Digite um nome\")\n",
        "print(nome)"
      ],
      "metadata": {
        "colab": {
          "base_uri": "https://localhost:8080/"
        },
        "id": "5MF_TLKT2EpG",
        "outputId": "9135b853-1fe6-4c2d-a725-2e87c226de63"
      },
      "execution_count": 34,
      "outputs": [
        {
          "output_type": "stream",
          "name": "stdout",
          "text": [
            "Digite um nomeJORGE\n",
            "JORGE\n"
          ]
        }
      ]
    },
    {
      "cell_type": "code",
      "source": [
        "print(nome)"
      ],
      "metadata": {
        "colab": {
          "base_uri": "https://localhost:8080/"
        },
        "id": "T9Xj9cf92eLz",
        "outputId": "786cefd8-3bb0-46f5-e470-d255f8291600"
      },
      "execution_count": 35,
      "outputs": [
        {
          "output_type": "stream",
          "name": "stdout",
          "text": [
            "JORGE\n"
          ]
        }
      ]
    },
    {
      "cell_type": "code",
      "source": [
        "print(\"Olá %s, bem-vindo a disciplina de programação, parabéns pelo seu primeiro Hello World\"% (nome))"
      ],
      "metadata": {
        "colab": {
          "base_uri": "https://localhost:8080/"
        },
        "id": "sFchRfnN6yVS",
        "outputId": "ad255f41-2d54-48e6-b8b4-1bca6856a7ca"
      },
      "execution_count": 36,
      "outputs": [
        {
          "output_type": "stream",
          "name": "stdout",
          "text": [
            "Olá JORGE, bem-vindo a disciplina de programação, parabéns pelo seu primeiro Hello World\n"
          ]
        }
      ]
    },
    {
      "cell_type": "code",
      "source": [
        "Nota_1 = int(input(\"Digite a primeira nota:\"))\n",
        "Nota_2 = int(input(\"Digite a segunda nota:\"))\n",
        "Nota_3 = int(input(\"Digite a terceira nota:\"))\n",
        "Nota_4 = int(input(\"Digite a quarta nota:\"))"
      ],
      "metadata": {
        "colab": {
          "base_uri": "https://localhost:8080/"
        },
        "id": "VFrlC3U88jqA",
        "outputId": "70696d40-5ce1-4c65-dd13-e9bbcf312d21"
      },
      "execution_count": 19,
      "outputs": [
        {
          "name": "stdout",
          "output_type": "stream",
          "text": [
            "Digite a primeira nota:5\n",
            "Digite a segunda nota:8\n",
            "Digite a terceira nota:7\n",
            "Digite a quarta nota:5\n"
          ]
        }
      ]
    },
    {
      "cell_type": "code",
      "source": [
        "media = (Nota_1+Nota_2+Nota_3+Nota_4)/4\n",
        "\n",
        "if media >=6:\n",
        "  situacao= \"Aprovado\"\n",
        "else:\n",
        "  situacao= \"Reprovado\"\n"
      ],
      "metadata": {
        "id": "4RUM5n938iuh"
      },
      "execution_count": 25,
      "outputs": []
    },
    {
      "cell_type": "code",
      "source": [
        "print(f\"A média das notas é:{media}\")\n",
        "print(f\"Situação do aluno:{situacao}\")"
      ],
      "metadata": {
        "colab": {
          "base_uri": "https://localhost:8080/"
        },
        "id": "OuUOCNsEAHF0",
        "outputId": "3df32e14-33c4-4b52-bb5d-7199bd6a9d07"
      },
      "execution_count": 26,
      "outputs": [
        {
          "output_type": "stream",
          "name": "stdout",
          "text": [
            "A média das notas é:6.25\n",
            "Situação do aluno:Aprovado\n"
          ]
        }
      ]
    }
  ]
}